{
  "nbformat": 4,
  "nbformat_minor": 0,
  "metadata": {
    "colab": {
      "name": "first_assignment_NLP.ipynb",
      "provenance": [],
      "collapsed_sections": []
    },
    "kernelspec": {
      "name": "python3",
      "display_name": "Python 3"
    },
    "language_info": {
      "name": "python"
    }
  },
  "cells": [
    {
      "cell_type": "code",
      "source": [
        "#  nltk This is one of the most usable and mother of all NLP libraries.\n",
        "import nltk as nl\n",
        "\n",
        "from nltk.corpus import gutenberg #corpus here to define as a semantically oriented dictionary of gutenberg\n",
        "\n",
        "nl.download('gutenberg')\n",
        "nl.download('stopwords')\n",
        "nl.download('punkt')\n",
        "nl.corpus.gutenberg.fileids() #\"corpus\" used to find the meaning of words, synonym or antonym\n",
        "print(gutenberg.fileids())# fileids used as a regular expression over file paths\n"
      ],
      "metadata": {
        "colab": {
          "base_uri": "https://localhost:8080/"
        },
        "id": "E40w5qZiRs-G",
        "outputId": "67def6ed-0bc7-4585-8216-8daeb5088ca1"
      },
      "execution_count": 1,
      "outputs": [
        {
          "output_type": "stream",
          "name": "stdout",
          "text": [
            "[nltk_data] Downloading package gutenberg to /root/nltk_data...\n",
            "[nltk_data]   Unzipping corpora/gutenberg.zip.\n",
            "[nltk_data] Downloading package stopwords to /root/nltk_data...\n",
            "[nltk_data]   Unzipping corpora/stopwords.zip.\n",
            "[nltk_data] Downloading package punkt to /root/nltk_data...\n",
            "[nltk_data]   Unzipping tokenizers/punkt.zip.\n",
            "['austen-emma.txt', 'austen-persuasion.txt', 'austen-sense.txt', 'bible-kjv.txt', 'blake-poems.txt', 'bryant-stories.txt', 'burgess-busterbrown.txt', 'carroll-alice.txt', 'chesterton-ball.txt', 'chesterton-brown.txt', 'chesterton-thursday.txt', 'edgeworth-parents.txt', 'melville-moby_dick.txt', 'milton-paradise.txt', 'shakespeare-caesar.txt', 'shakespeare-hamlet.txt', 'shakespeare-macbeth.txt', 'whitman-leaves.txt']\n"
          ]
        }
      ]
    },
    {
      "cell_type": "code",
      "source": [
        "\n",
        "\n",
        "import re\n",
        "\n",
        "from nltk.tokenize import RegexpTokenizer \n",
        "from nltk.corpus import stopwords\n",
        "All_Books = ['austen-emma.txt', 'austen-persuasion.txt', 'austen-sense.txt', 'bible-kjv.txt', 'blake-poems.txt', 'bryant-stories.txt', 'burgess-busterbrown.txt', 'carroll-alice.txt', 'chesterton-ball.txt', 'chesterton-brown.txt', 'chesterton-thursday.txt', 'edgeworth-parents.txt', 'melville-moby_dick.txt', 'milton-paradise.txt', 'shakespeare-caesar.txt', 'shakespeare-hamlet.txt', 'shakespeare-macbeth.txt', 'whitman-leaves.txt']\n",
        "# to clean the data\n",
        "pattern = RegexpTokenizer(\"[\\w']+\") #\"RegexpTokenizer\" this method gives you more control over how the text will be tokenized\n",
        "sw=set(stopwords.words(\"english\"))#stopword is a commonly used word (such as “the”, “a”, “an”, “in”) that a search engine has been programmed to ignore\n",
        "\n"
      ],
      "metadata": {
        "id": "iNXXouWSVQb9"
      },
      "execution_count": 2,
      "outputs": []
    },
    {
      "cell_type": "code",
      "source": [
        "# generaliz the book you want \n",
        "print(\"\\nEnter the number of the book you want from these 18 books \\n \")\n",
        "The_Book = int(input(\" the number of book is : \"))\n",
        "# to do preprocessing to the data\n",
        "for The_Book in range(The_Book):\n",
        "        words = nl.corpus.gutenberg.raw(All_Books[The_Book])\n",
        "        Token_words = pattern.tokenize(words)#use method tokenize to split a sentence into words\n"
      ],
      "metadata": {
        "id": "1RYw5OER8Mmf",
        "colab": {
          "base_uri": "https://localhost:8080/"
        },
        "outputId": "2adbdf2f-e01e-4d93-ba5d-f73dfdb22bd4"
      },
      "execution_count": 5,
      "outputs": [
        {
          "name": "stdout",
          "output_type": "stream",
          "text": [
            "\n",
            "Enter the number of the book you want from these 18 books \n",
            " \n",
            " the number of book is : 2\n"
          ]
        }
      ]
    },
    {
      "cell_type": "code",
      "source": [
        "#append words to the list frame\n",
        "Frame = []\n",
        "for t in Token_words:  \n",
        "        if t not in sw:\n",
        "            Frame.append(t)\n"
      ],
      "metadata": {
        "id": "3Zb17L9dVgfU"
      },
      "execution_count": 6,
      "outputs": []
    },
    {
      "cell_type": "code",
      "source": [
        "import random as ra\n",
        "import pandas as pa\n",
        "\n",
        "count = 0\n",
        "Lenth=[]\n",
        "Part = []\n",
        "\n",
        "#this function to add the partitions in data frame , after 100 words add in partition in row\n",
        "def Text_Partion(number_of_partitions,number_of_words):\n",
        "    \n",
        "    for count in range(number_of_partitions):\n",
        "      #will choose the random words from book \n",
        "        random_samples = ra.randint(0, len(Frame) - number_of_words)\n",
        "        Lenth.append(Frame[random_samples: random_samples + number_of_words])\n",
        "        Part.append(All_Books[The_Book])\n",
        "        \n",
        "\n",
        "        df = pa.DataFrame([] for Part, Lenth in zip(Lenth, Part))\n",
        "        df['partitions']=Lenth\n",
        "        df['name_of_book']=Part\n",
        "    print(df)\n",
        "# to save the frame in file csv\n",
        "\n",
        "    df.to_csv(r'C:\\\\Users\\Eman Abood\\\\Documents\\\\the assignments\\\\NLP\\\\First Assignment\\\\Text_regex.csv')\n",
        "\n",
        "    return df\n",
        "Text_Partion(200,100)\n",
        "\n"
      ],
      "metadata": {
        "id": "N1L3Gna7d2Dt",
        "colab": {
          "base_uri": "https://localhost:8080/",
          "height": 667
        },
        "outputId": "145603ff-6b09-48cb-801d-2bb87df1170d"
      },
      "execution_count": 9,
      "outputs": [
        {
          "output_type": "stream",
          "name": "stdout",
          "text": [
            "                                            partitions           name_of_book\n",
            "0    [next, time, write, good, father, Miss, Elliot...  austen-persuasion.txt\n",
            "1    [sick, child, always, mother's, property, feel...  austen-persuasion.txt\n",
            "2    [The, name, Musgrove, would, told, enough, Wel...  austen-persuasion.txt\n",
            "3    [I, idea, Well, I, think, better, turn, back, ...  austen-persuasion.txt\n",
            "4    [equal, resembling, scenes, far, famed, Isle, ...  austen-persuasion.txt\n",
            "..                                                 ...                    ...\n",
            "195  [sent, Crewkherne, Charles, conveyed, back, fa...  austen-persuasion.txt\n",
            "196  [music, like, unfledged, sparrows, ready, fed,...  austen-persuasion.txt\n",
            "197  [away, A, letter, friend, Captain, Harville, f...  austen-persuasion.txt\n",
            "198  [two, Kellynch, estate, would, surely, hereaft...  austen-persuasion.txt\n",
            "199  [little, boy, better, silent, She, obliged, kn...  austen-persuasion.txt\n",
            "\n",
            "[200 rows x 2 columns]\n"
          ]
        },
        {
          "output_type": "execute_result",
          "data": {
            "text/plain": [
              "                                            partitions           name_of_book\n",
              "0    [next, time, write, good, father, Miss, Elliot...  austen-persuasion.txt\n",
              "1    [sick, child, always, mother's, property, feel...  austen-persuasion.txt\n",
              "2    [The, name, Musgrove, would, told, enough, Wel...  austen-persuasion.txt\n",
              "3    [I, idea, Well, I, think, better, turn, back, ...  austen-persuasion.txt\n",
              "4    [equal, resembling, scenes, far, famed, Isle, ...  austen-persuasion.txt\n",
              "..                                                 ...                    ...\n",
              "195  [sent, Crewkherne, Charles, conveyed, back, fa...  austen-persuasion.txt\n",
              "196  [music, like, unfledged, sparrows, ready, fed,...  austen-persuasion.txt\n",
              "197  [away, A, letter, friend, Captain, Harville, f...  austen-persuasion.txt\n",
              "198  [two, Kellynch, estate, would, surely, hereaft...  austen-persuasion.txt\n",
              "199  [little, boy, better, silent, She, obliged, kn...  austen-persuasion.txt\n",
              "\n",
              "[200 rows x 2 columns]"
            ],
            "text/html": [
              "\n",
              "  <div id=\"df-62286ab8-6adc-4723-bb4a-c37cf11a9f88\">\n",
              "    <div class=\"colab-df-container\">\n",
              "      <div>\n",
              "<style scoped>\n",
              "    .dataframe tbody tr th:only-of-type {\n",
              "        vertical-align: middle;\n",
              "    }\n",
              "\n",
              "    .dataframe tbody tr th {\n",
              "        vertical-align: top;\n",
              "    }\n",
              "\n",
              "    .dataframe thead th {\n",
              "        text-align: right;\n",
              "    }\n",
              "</style>\n",
              "<table border=\"1\" class=\"dataframe\">\n",
              "  <thead>\n",
              "    <tr style=\"text-align: right;\">\n",
              "      <th></th>\n",
              "      <th>partitions</th>\n",
              "      <th>name_of_book</th>\n",
              "    </tr>\n",
              "  </thead>\n",
              "  <tbody>\n",
              "    <tr>\n",
              "      <th>0</th>\n",
              "      <td>[next, time, write, good, father, Miss, Elliot...</td>\n",
              "      <td>austen-persuasion.txt</td>\n",
              "    </tr>\n",
              "    <tr>\n",
              "      <th>1</th>\n",
              "      <td>[sick, child, always, mother's, property, feel...</td>\n",
              "      <td>austen-persuasion.txt</td>\n",
              "    </tr>\n",
              "    <tr>\n",
              "      <th>2</th>\n",
              "      <td>[The, name, Musgrove, would, told, enough, Wel...</td>\n",
              "      <td>austen-persuasion.txt</td>\n",
              "    </tr>\n",
              "    <tr>\n",
              "      <th>3</th>\n",
              "      <td>[I, idea, Well, I, think, better, turn, back, ...</td>\n",
              "      <td>austen-persuasion.txt</td>\n",
              "    </tr>\n",
              "    <tr>\n",
              "      <th>4</th>\n",
              "      <td>[equal, resembling, scenes, far, famed, Isle, ...</td>\n",
              "      <td>austen-persuasion.txt</td>\n",
              "    </tr>\n",
              "    <tr>\n",
              "      <th>...</th>\n",
              "      <td>...</td>\n",
              "      <td>...</td>\n",
              "    </tr>\n",
              "    <tr>\n",
              "      <th>195</th>\n",
              "      <td>[sent, Crewkherne, Charles, conveyed, back, fa...</td>\n",
              "      <td>austen-persuasion.txt</td>\n",
              "    </tr>\n",
              "    <tr>\n",
              "      <th>196</th>\n",
              "      <td>[music, like, unfledged, sparrows, ready, fed,...</td>\n",
              "      <td>austen-persuasion.txt</td>\n",
              "    </tr>\n",
              "    <tr>\n",
              "      <th>197</th>\n",
              "      <td>[away, A, letter, friend, Captain, Harville, f...</td>\n",
              "      <td>austen-persuasion.txt</td>\n",
              "    </tr>\n",
              "    <tr>\n",
              "      <th>198</th>\n",
              "      <td>[two, Kellynch, estate, would, surely, hereaft...</td>\n",
              "      <td>austen-persuasion.txt</td>\n",
              "    </tr>\n",
              "    <tr>\n",
              "      <th>199</th>\n",
              "      <td>[little, boy, better, silent, She, obliged, kn...</td>\n",
              "      <td>austen-persuasion.txt</td>\n",
              "    </tr>\n",
              "  </tbody>\n",
              "</table>\n",
              "<p>200 rows × 2 columns</p>\n",
              "</div>\n",
              "      <button class=\"colab-df-convert\" onclick=\"convertToInteractive('df-62286ab8-6adc-4723-bb4a-c37cf11a9f88')\"\n",
              "              title=\"Convert this dataframe to an interactive table.\"\n",
              "              style=\"display:none;\">\n",
              "        \n",
              "  <svg xmlns=\"http://www.w3.org/2000/svg\" height=\"24px\"viewBox=\"0 0 24 24\"\n",
              "       width=\"24px\">\n",
              "    <path d=\"M0 0h24v24H0V0z\" fill=\"none\"/>\n",
              "    <path d=\"M18.56 5.44l.94 2.06.94-2.06 2.06-.94-2.06-.94-.94-2.06-.94 2.06-2.06.94zm-11 1L8.5 8.5l.94-2.06 2.06-.94-2.06-.94L8.5 2.5l-.94 2.06-2.06.94zm10 10l.94 2.06.94-2.06 2.06-.94-2.06-.94-.94-2.06-.94 2.06-2.06.94z\"/><path d=\"M17.41 7.96l-1.37-1.37c-.4-.4-.92-.59-1.43-.59-.52 0-1.04.2-1.43.59L10.3 9.45l-7.72 7.72c-.78.78-.78 2.05 0 2.83L4 21.41c.39.39.9.59 1.41.59.51 0 1.02-.2 1.41-.59l7.78-7.78 2.81-2.81c.8-.78.8-2.07 0-2.86zM5.41 20L4 18.59l7.72-7.72 1.47 1.35L5.41 20z\"/>\n",
              "  </svg>\n",
              "      </button>\n",
              "      \n",
              "  <style>\n",
              "    .colab-df-container {\n",
              "      display:flex;\n",
              "      flex-wrap:wrap;\n",
              "      gap: 12px;\n",
              "    }\n",
              "\n",
              "    .colab-df-convert {\n",
              "      background-color: #E8F0FE;\n",
              "      border: none;\n",
              "      border-radius: 50%;\n",
              "      cursor: pointer;\n",
              "      display: none;\n",
              "      fill: #1967D2;\n",
              "      height: 32px;\n",
              "      padding: 0 0 0 0;\n",
              "      width: 32px;\n",
              "    }\n",
              "\n",
              "    .colab-df-convert:hover {\n",
              "      background-color: #E2EBFA;\n",
              "      box-shadow: 0px 1px 2px rgba(60, 64, 67, 0.3), 0px 1px 3px 1px rgba(60, 64, 67, 0.15);\n",
              "      fill: #174EA6;\n",
              "    }\n",
              "\n",
              "    [theme=dark] .colab-df-convert {\n",
              "      background-color: #3B4455;\n",
              "      fill: #D2E3FC;\n",
              "    }\n",
              "\n",
              "    [theme=dark] .colab-df-convert:hover {\n",
              "      background-color: #434B5C;\n",
              "      box-shadow: 0px 1px 3px 1px rgba(0, 0, 0, 0.15);\n",
              "      filter: drop-shadow(0px 1px 2px rgba(0, 0, 0, 0.3));\n",
              "      fill: #FFFFFF;\n",
              "    }\n",
              "  </style>\n",
              "\n",
              "      <script>\n",
              "        const buttonEl =\n",
              "          document.querySelector('#df-62286ab8-6adc-4723-bb4a-c37cf11a9f88 button.colab-df-convert');\n",
              "        buttonEl.style.display =\n",
              "          google.colab.kernel.accessAllowed ? 'block' : 'none';\n",
              "\n",
              "        async function convertToInteractive(key) {\n",
              "          const element = document.querySelector('#df-62286ab8-6adc-4723-bb4a-c37cf11a9f88');\n",
              "          const dataTable =\n",
              "            await google.colab.kernel.invokeFunction('convertToInteractive',\n",
              "                                                     [key], {});\n",
              "          if (!dataTable) return;\n",
              "\n",
              "          const docLinkHtml = 'Like what you see? Visit the ' +\n",
              "            '<a target=\"_blank\" href=https://colab.research.google.com/notebooks/data_table.ipynb>data table notebook</a>'\n",
              "            + ' to learn more about interactive tables.';\n",
              "          element.innerHTML = '';\n",
              "          dataTable['output_type'] = 'display_data';\n",
              "          await google.colab.output.renderOutput(dataTable, element);\n",
              "          const docLink = document.createElement('div');\n",
              "          docLink.innerHTML = docLinkHtml;\n",
              "          element.appendChild(docLink);\n",
              "        }\n",
              "      </script>\n",
              "    </div>\n",
              "  </div>\n",
              "  "
            ]
          },
          "metadata": {},
          "execution_count": 9
        }
      ]
    }
  ]
}